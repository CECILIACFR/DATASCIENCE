{
  "nbformat": 4,
  "nbformat_minor": 0,
  "metadata": {
    "colab": {
      "provenance": [],
      "authorship_tag": "ABX9TyOc9KP+iGujrNYMOS/6v6Up",
      "include_colab_link": true
    },
    "kernelspec": {
      "name": "python3",
      "display_name": "Python 3"
    },
    "language_info": {
      "name": "python"
    }
  },
  "cells": [
    {
      "cell_type": "markdown",
      "metadata": {
        "id": "view-in-github",
        "colab_type": "text"
      },
      "source": [
        "<a href=\"https://colab.research.google.com/github/CECILIACFR/DATASCIENCE/blob/main/Visualizacao_de_Dados_Aula2.ipynb\" target=\"_parent\"><img src=\"https://colab.research.google.com/assets/colab-badge.svg\" alt=\"Open In Colab\"/></a>"
      ]
    },
    {
      "cell_type": "markdown",
      "source": [
        "# Técnica Aplicada - Visualização da Informação - AULA 2\n",
        "\n",
        "**Aluna: Cecilia Correa Ferrai Rey**\n",
        "\n",
        "## 1. Definição do Problema\n",
        "\n",
        "Criar um gráfico de linhas com a evolução da população brasileira.\n",
        "\n",
        "\n"
      ],
      "metadata": {
        "id": "_4kaAYyHS8bf"
      }
    },
    {
      "cell_type": "code",
      "execution_count": 57,
      "metadata": {
        "id": "UpOxuIXDKG2X",
        "colab": {
          "base_uri": "https://localhost:8080/",
          "height": 36
        },
        "outputId": "e9f9fb18-5d61-415b-cc6f-36fea231a926"
      },
      "outputs": [
        {
          "output_type": "execute_result",
          "data": {
            "text/plain": [
              "'3.7.1'"
            ],
            "application/vnd.google.colaboratory.intrinsic+json": {
              "type": "string"
            }
          },
          "metadata": {},
          "execution_count": 57
        }
      ],
      "source": [
        "# imports\n",
        "import pandas as pd\n",
        "import numpy as np\n",
        "import math\n",
        "\n",
        "import matplotlib.pyplot as plt\n",
        "import matplotlib as mpl\n",
        "from matplotlib.patches import Patch, Polygon\n",
        "from matplotlib.lines import Line2D\n",
        "\n",
        "from IPython.display import display, Markdown\n",
        "## Verifica a versão da matplotlib instalada\n",
        "mpl.__version__\n"
      ]
    },
    {
      "cell_type": "markdown",
      "source": [
        "\n",
        "## 2. Carga de Dados\n",
        "\n",
        "Iremos usar o pacote Pandas (Python Data Analysis Library) para carregar de um arquivo .csv sem cabeçalho disponível online.\n",
        "\n",
        "Com o dataset carregado, iremos explorá-lo um pouco."
      ],
      "metadata": {
        "id": "eNiyArNiUskf"
      }
    },
    {
      "cell_type": "code",
      "source": [
        "# url a importar\n",
        "url = \"https://raw.githubusercontent.com/CECILIACFR/DATASCIENCE/main/tabela1286.csv\"\n",
        "\n",
        "# labels dos atributos do dataset\n",
        "colunas = ['REGIAO', '1872', '1890', '1900', '1920', '1940', '1950', '1960', '1970', '1980', '1991', '2000', '2010']\n",
        "\n",
        "# carga do dataset através do csv\n",
        "dataset = pd.read_csv(url, names=colunas, skiprows=1, delimiter=',')"
      ],
      "metadata": {
        "id": "hyfiEi33SQHd"
      },
      "execution_count": 58,
      "outputs": []
    },
    {
      "cell_type": "code",
      "source": [
        "# exibe as 5 primeiras linhas\n",
        "dataset.head()"
      ],
      "metadata": {
        "colab": {
          "base_uri": "https://localhost:8080/",
          "height": 206
        },
        "id": "hfwoncOmbtQx",
        "outputId": "5f9b25e4-440e-4444-e5df-ace077bf8a7b"
      },
      "execution_count": 59,
      "outputs": [
        {
          "output_type": "execute_result",
          "data": {
            "text/plain": [
              "         REGIAO     1872     1890     1900      1920      1940      1950  \\\n",
              "0         Norte   332847   476370   695112   1439052   1627608   2048696   \n",
              "1      Nordeste  4638560  6002047  6749507  11245921  14434080  17973413   \n",
              "2       Sudeste  4016922  6104384  7824011  13654934  18345831  22548494   \n",
              "3           Sul   721337  1430715  1796495   3537167   5735305   7840870   \n",
              "4  Centro-Oeste   220812   320399   373309    758531   1093491   1532924   \n",
              "\n",
              "       1960      1970      1980      1991      2000      2010  \n",
              "0   2930005   4188313   6767249  10257266  12893561  15864454  \n",
              "1  22428873  28675110  35419156  42470225  47693253  53081950  \n",
              "2  31062978  40331969  52580527  62660700  72297351  80364410  \n",
              "3  11892107  16683551  19380126  22117026  25089783  27386891  \n",
              "4   2678380   4629640   7003515   9412242  11616745  14058094  "
            ],
            "text/html": [
              "\n",
              "  <div id=\"df-b4dba3ef-090d-4883-b169-06c72aadd7c0\">\n",
              "    <div class=\"colab-df-container\">\n",
              "      <div>\n",
              "<style scoped>\n",
              "    .dataframe tbody tr th:only-of-type {\n",
              "        vertical-align: middle;\n",
              "    }\n",
              "\n",
              "    .dataframe tbody tr th {\n",
              "        vertical-align: top;\n",
              "    }\n",
              "\n",
              "    .dataframe thead th {\n",
              "        text-align: right;\n",
              "    }\n",
              "</style>\n",
              "<table border=\"1\" class=\"dataframe\">\n",
              "  <thead>\n",
              "    <tr style=\"text-align: right;\">\n",
              "      <th></th>\n",
              "      <th>REGIAO</th>\n",
              "      <th>1872</th>\n",
              "      <th>1890</th>\n",
              "      <th>1900</th>\n",
              "      <th>1920</th>\n",
              "      <th>1940</th>\n",
              "      <th>1950</th>\n",
              "      <th>1960</th>\n",
              "      <th>1970</th>\n",
              "      <th>1980</th>\n",
              "      <th>1991</th>\n",
              "      <th>2000</th>\n",
              "      <th>2010</th>\n",
              "    </tr>\n",
              "  </thead>\n",
              "  <tbody>\n",
              "    <tr>\n",
              "      <th>0</th>\n",
              "      <td>Norte</td>\n",
              "      <td>332847</td>\n",
              "      <td>476370</td>\n",
              "      <td>695112</td>\n",
              "      <td>1439052</td>\n",
              "      <td>1627608</td>\n",
              "      <td>2048696</td>\n",
              "      <td>2930005</td>\n",
              "      <td>4188313</td>\n",
              "      <td>6767249</td>\n",
              "      <td>10257266</td>\n",
              "      <td>12893561</td>\n",
              "      <td>15864454</td>\n",
              "    </tr>\n",
              "    <tr>\n",
              "      <th>1</th>\n",
              "      <td>Nordeste</td>\n",
              "      <td>4638560</td>\n",
              "      <td>6002047</td>\n",
              "      <td>6749507</td>\n",
              "      <td>11245921</td>\n",
              "      <td>14434080</td>\n",
              "      <td>17973413</td>\n",
              "      <td>22428873</td>\n",
              "      <td>28675110</td>\n",
              "      <td>35419156</td>\n",
              "      <td>42470225</td>\n",
              "      <td>47693253</td>\n",
              "      <td>53081950</td>\n",
              "    </tr>\n",
              "    <tr>\n",
              "      <th>2</th>\n",
              "      <td>Sudeste</td>\n",
              "      <td>4016922</td>\n",
              "      <td>6104384</td>\n",
              "      <td>7824011</td>\n",
              "      <td>13654934</td>\n",
              "      <td>18345831</td>\n",
              "      <td>22548494</td>\n",
              "      <td>31062978</td>\n",
              "      <td>40331969</td>\n",
              "      <td>52580527</td>\n",
              "      <td>62660700</td>\n",
              "      <td>72297351</td>\n",
              "      <td>80364410</td>\n",
              "    </tr>\n",
              "    <tr>\n",
              "      <th>3</th>\n",
              "      <td>Sul</td>\n",
              "      <td>721337</td>\n",
              "      <td>1430715</td>\n",
              "      <td>1796495</td>\n",
              "      <td>3537167</td>\n",
              "      <td>5735305</td>\n",
              "      <td>7840870</td>\n",
              "      <td>11892107</td>\n",
              "      <td>16683551</td>\n",
              "      <td>19380126</td>\n",
              "      <td>22117026</td>\n",
              "      <td>25089783</td>\n",
              "      <td>27386891</td>\n",
              "    </tr>\n",
              "    <tr>\n",
              "      <th>4</th>\n",
              "      <td>Centro-Oeste</td>\n",
              "      <td>220812</td>\n",
              "      <td>320399</td>\n",
              "      <td>373309</td>\n",
              "      <td>758531</td>\n",
              "      <td>1093491</td>\n",
              "      <td>1532924</td>\n",
              "      <td>2678380</td>\n",
              "      <td>4629640</td>\n",
              "      <td>7003515</td>\n",
              "      <td>9412242</td>\n",
              "      <td>11616745</td>\n",
              "      <td>14058094</td>\n",
              "    </tr>\n",
              "  </tbody>\n",
              "</table>\n",
              "</div>\n",
              "      <button class=\"colab-df-convert\" onclick=\"convertToInteractive('df-b4dba3ef-090d-4883-b169-06c72aadd7c0')\"\n",
              "              title=\"Convert this dataframe to an interactive table.\"\n",
              "              style=\"display:none;\">\n",
              "        \n",
              "  <svg xmlns=\"http://www.w3.org/2000/svg\" height=\"24px\"viewBox=\"0 0 24 24\"\n",
              "       width=\"24px\">\n",
              "    <path d=\"M0 0h24v24H0V0z\" fill=\"none\"/>\n",
              "    <path d=\"M18.56 5.44l.94 2.06.94-2.06 2.06-.94-2.06-.94-.94-2.06-.94 2.06-2.06.94zm-11 1L8.5 8.5l.94-2.06 2.06-.94-2.06-.94L8.5 2.5l-.94 2.06-2.06.94zm10 10l.94 2.06.94-2.06 2.06-.94-2.06-.94-.94-2.06-.94 2.06-2.06.94z\"/><path d=\"M17.41 7.96l-1.37-1.37c-.4-.4-.92-.59-1.43-.59-.52 0-1.04.2-1.43.59L10.3 9.45l-7.72 7.72c-.78.78-.78 2.05 0 2.83L4 21.41c.39.39.9.59 1.41.59.51 0 1.02-.2 1.41-.59l7.78-7.78 2.81-2.81c.8-.78.8-2.07 0-2.86zM5.41 20L4 18.59l7.72-7.72 1.47 1.35L5.41 20z\"/>\n",
              "  </svg>\n",
              "      </button>\n",
              "      \n",
              "  <style>\n",
              "    .colab-df-container {\n",
              "      display:flex;\n",
              "      flex-wrap:wrap;\n",
              "      gap: 12px;\n",
              "    }\n",
              "\n",
              "    .colab-df-convert {\n",
              "      background-color: #E8F0FE;\n",
              "      border: none;\n",
              "      border-radius: 50%;\n",
              "      cursor: pointer;\n",
              "      display: none;\n",
              "      fill: #1967D2;\n",
              "      height: 32px;\n",
              "      padding: 0 0 0 0;\n",
              "      width: 32px;\n",
              "    }\n",
              "\n",
              "    .colab-df-convert:hover {\n",
              "      background-color: #E2EBFA;\n",
              "      box-shadow: 0px 1px 2px rgba(60, 64, 67, 0.3), 0px 1px 3px 1px rgba(60, 64, 67, 0.15);\n",
              "      fill: #174EA6;\n",
              "    }\n",
              "\n",
              "    [theme=dark] .colab-df-convert {\n",
              "      background-color: #3B4455;\n",
              "      fill: #D2E3FC;\n",
              "    }\n",
              "\n",
              "    [theme=dark] .colab-df-convert:hover {\n",
              "      background-color: #434B5C;\n",
              "      box-shadow: 0px 1px 3px 1px rgba(0, 0, 0, 0.15);\n",
              "      filter: drop-shadow(0px 1px 2px rgba(0, 0, 0, 0.3));\n",
              "      fill: #FFFFFF;\n",
              "    }\n",
              "  </style>\n",
              "\n",
              "      <script>\n",
              "        const buttonEl =\n",
              "          document.querySelector('#df-b4dba3ef-090d-4883-b169-06c72aadd7c0 button.colab-df-convert');\n",
              "        buttonEl.style.display =\n",
              "          google.colab.kernel.accessAllowed ? 'block' : 'none';\n",
              "\n",
              "        async function convertToInteractive(key) {\n",
              "          const element = document.querySelector('#df-b4dba3ef-090d-4883-b169-06c72aadd7c0');\n",
              "          const dataTable =\n",
              "            await google.colab.kernel.invokeFunction('convertToInteractive',\n",
              "                                                     [key], {});\n",
              "          if (!dataTable) return;\n",
              "\n",
              "          const docLinkHtml = 'Like what you see? Visit the ' +\n",
              "            '<a target=\"_blank\" href=https://colab.research.google.com/notebooks/data_table.ipynb>data table notebook</a>'\n",
              "            + ' to learn more about interactive tables.';\n",
              "          element.innerHTML = '';\n",
              "          dataTable['output_type'] = 'display_data';\n",
              "          await google.colab.output.renderOutput(dataTable, element);\n",
              "          const docLink = document.createElement('div');\n",
              "          docLink.innerHTML = docLinkHtml;\n",
              "          element.appendChild(docLink);\n",
              "        }\n",
              "      </script>\n",
              "    </div>\n",
              "  </div>\n",
              "  "
            ]
          },
          "metadata": {},
          "execution_count": 59
        }
      ]
    },
    {
      "cell_type": "markdown",
      "source": [
        "## 3. Análise e pré-processamento de dados\n",
        "\n",
        "\n",
        "\n",
        "\n"
      ],
      "metadata": {
        "id": "W7XfmCIQdKa9"
      }
    },
    {
      "cell_type": "code",
      "source": [
        "# use first column as index\n",
        "dataset = dataset.set_index('REGIAO')"
      ],
      "metadata": {
        "id": "VDF2lpbSjLO1"
      },
      "execution_count": 60,
      "outputs": []
    },
    {
      "cell_type": "code",
      "source": [
        "# adjust scale (in millions)\n",
        "dataset = dataset.astype(float) / 1000000"
      ],
      "metadata": {
        "id": "TExu9Xg5jLex"
      },
      "execution_count": 61,
      "outputs": []
    },
    {
      "cell_type": "code",
      "source": [
        "print(dataset)"
      ],
      "metadata": {
        "colab": {
          "base_uri": "https://localhost:8080/"
        },
        "id": "WNvxFaCKjLrX",
        "outputId": "08f84861-407e-40ee-cc9a-b00df35ed1cf"
      },
      "execution_count": 62,
      "outputs": [
        {
          "output_type": "stream",
          "name": "stdout",
          "text": [
            "                  1872      1890      1900       1920       1940       1950  \\\n",
            "REGIAO                                                                        \n",
            "Norte         0.332847  0.476370  0.695112   1.439052   1.627608   2.048696   \n",
            "Nordeste      4.638560  6.002047  6.749507  11.245921  14.434080  17.973413   \n",
            "Sudeste       4.016922  6.104384  7.824011  13.654934  18.345831  22.548494   \n",
            "Sul           0.721337  1.430715  1.796495   3.537167   5.735305   7.840870   \n",
            "Centro-Oeste  0.220812  0.320399  0.373309   0.758531   1.093491   1.532924   \n",
            "\n",
            "                   1960       1970       1980       1991       2000       2010  \n",
            "REGIAO                                                                          \n",
            "Norte          2.930005   4.188313   6.767249  10.257266  12.893561  15.864454  \n",
            "Nordeste      22.428873  28.675110  35.419156  42.470225  47.693253  53.081950  \n",
            "Sudeste       31.062978  40.331969  52.580527  62.660700  72.297351  80.364410  \n",
            "Sul           11.892107  16.683551  19.380126  22.117026  25.089783  27.386891  \n",
            "Centro-Oeste   2.678380   4.629640   7.003515   9.412242  11.616745  14.058094  \n"
          ]
        }
      ]
    },
    {
      "cell_type": "code",
      "source": [
        "# Mostra as dimensões do dataset\n",
        "print(dataset.shape)"
      ],
      "metadata": {
        "colab": {
          "base_uri": "https://localhost:8080/"
        },
        "id": "flGaFAEfnnj6",
        "outputId": "11d66884-0427-423b-ba58-582fe9416ee0"
      },
      "execution_count": 63,
      "outputs": [
        {
          "output_type": "stream",
          "name": "stdout",
          "text": [
            "(5, 12)\n"
          ]
        }
      ]
    },
    {
      "cell_type": "code",
      "source": [
        "# Mostra as informações do dataset\n",
        "print(dataset.info())"
      ],
      "metadata": {
        "colab": {
          "base_uri": "https://localhost:8080/"
        },
        "id": "nrzGzFcknxhP",
        "outputId": "5372d924-5c5c-4aee-b708-72616e515edc"
      },
      "execution_count": 64,
      "outputs": [
        {
          "output_type": "stream",
          "name": "stdout",
          "text": [
            "<class 'pandas.core.frame.DataFrame'>\n",
            "Index: 5 entries, Norte to Centro-Oeste\n",
            "Data columns (total 12 columns):\n",
            " #   Column  Non-Null Count  Dtype  \n",
            "---  ------  --------------  -----  \n",
            " 0   1872    5 non-null      float64\n",
            " 1   1890    5 non-null      float64\n",
            " 2   1900    5 non-null      float64\n",
            " 3   1920    5 non-null      float64\n",
            " 4   1940    5 non-null      float64\n",
            " 5   1950    5 non-null      float64\n",
            " 6   1960    5 non-null      float64\n",
            " 7   1970    5 non-null      float64\n",
            " 8   1980    5 non-null      float64\n",
            " 9   1991    5 non-null      float64\n",
            " 10  2000    5 non-null      float64\n",
            " 11  2010    5 non-null      float64\n",
            "dtypes: float64(12)\n",
            "memory usage: 520.0+ bytes\n",
            "None\n"
          ]
        }
      ]
    },
    {
      "cell_type": "markdown",
      "source": [
        "## 4.Visualização\n",
        "\n",
        "Grafico de Linha com pontos."
      ],
      "metadata": {
        "id": "Dps5KnXMf_Ga"
      }
    },
    {
      "cell_type": "code",
      "source": [
        "# carregando a paleta diretamente do próprio matplotlib\n",
        "# a paleta \"viridis\" é robusta para pessoas com daltonismo\n",
        "vcmap = plt.get_cmap(\"viridis\", 5)\n",
        "\n",
        "# exibe o mapa de cores\n",
        "vcmap"
      ],
      "metadata": {
        "colab": {
          "base_uri": "https://localhost:8080/",
          "height": 123
        },
        "id": "YHbCTn0GrKif",
        "outputId": "04ade426-7a47-4e53-bfe5-a0bb57ada8e0"
      },
      "execution_count": 65,
      "outputs": [
        {
          "output_type": "execute_result",
          "data": {
            "text/plain": [
              "<matplotlib.colors.ListedColormap at 0x7f006c6231f0>"
            ],
            "text/html": [
              "<div style=\"vertical-align: middle;\"><strong>viridis</strong> </div><div class=\"cmap\"><img alt=\"viridis colormap\" title=\"viridis\" style=\"border: 1px solid #555;\" src=\"data:image/png;base64,iVBORw0KGgoAAAANSUhEUgAAAgAAAABACAYAAABsv8+/AAAAFnRFWHRUaXRsZQB2aXJpZGlzIGNvbG9ybWFwrE0mCwAAABx0RVh0RGVzY3JpcHRpb24AdmlyaWRpcyBjb2xvcm1hcAtjl3IAAAAwdEVYdEF1dGhvcgBNYXRwbG90bGliIHYzLjcuMSwgaHR0cHM6Ly9tYXRwbG90bGliLm9yZyqv+E0AAAAydEVYdFNvZnR3YXJlAE1hdHBsb3RsaWIgdjMuNy4xLCBodHRwczovL21hdHBsb3RsaWIub3JnBAlnagAAAU5JREFUeJzt1jENAkEAAEEOIdggNF9hgAR/iEEDFpBACwaOliPZGQVb7jiP63vHX3pdjqsTmHhuY3UCE9vpsTqBidvhvjqBL/arAwCA3zMAABBkAAAgyAAAQJABAIAgAwAAQQYAAIIMAAAEGQAACDIAABBkAAAgyAAAQJABAIAgAwAAQQYAAIIMAAAEGQAACDIAABBkAAAgyAAAQJABAIAgAwAAQQYAAIIMAAAEGQAACDIAABBkAAAgyAAAQJABAIAgAwAAQQYAAIIMAAAEGQAACDIAABBkAAAgyAAAQJABAIAgAwAAQQYAAIIMAAAEGQAACDIAABBkAAAgyAAAQJABAIAgAwAAQQYAAIIMAAAEGQAACDIAABBkAAAgyAAAQJABAIAgAwAAQQYAAIIMAAAEGQAACDIAABBkAAAgyAAAQJABAIAgAwAAQQYAAII+vDUHh+HNz5QAAAAASUVORK5CYII=\"></div><div style=\"vertical-align: middle; max-width: 514px; display: flex; justify-content: space-between;\"><div style=\"float: left;\"><div title=\"#440154ff\" style=\"display: inline-block; width: 1em; height: 1em; margin: 0; vertical-align: middle; border: 1px solid #555; background-color: #440154ff;\"></div> under</div><div style=\"margin: 0 auto; display: inline-block;\">bad <div title=\"#00000000\" style=\"display: inline-block; width: 1em; height: 1em; margin: 0; vertical-align: middle; border: 1px solid #555; background-color: #00000000;\"></div></div><div style=\"float: right;\">over <div title=\"#fde725ff\" style=\"display: inline-block; width: 1em; height: 1em; margin: 0; vertical-align: middle; border: 1px solid #555; background-color: #fde725ff;\"></div></div>"
            ],
            "image/png": "[encoded data removed]"
          },
          "metadata": {},
          "execution_count": 65
        }
      ]
    },
    {
      "cell_type": "code",
      "source": [
        "# criando um array de seis cores da paleta \"viridis\" em hexadecimal\n",
        "coresViridis = [mpl.colors.rgb2hex(vcmap(i)) for i in range(5)]\n",
        "\n",
        "# exibindo a lista de cores\n",
        "coresViridis"
      ],
      "metadata": {
        "colab": {
          "base_uri": "https://localhost:8080/"
        },
        "id": "RfUr2WyOryEG",
        "outputId": "e4da577b-6e9a-4d35-f8d0-ea4d689af3d4"
      },
      "execution_count": 66,
      "outputs": [
        {
          "output_type": "execute_result",
          "data": {
            "text/plain": [
              "['#440154', '#3b528b', '#21918c', '#5ec962', '#fde725']"
            ]
          },
          "metadata": {},
          "execution_count": 66
        }
      ]
    },
    {
      "cell_type": "code",
      "source": [
        "# define uma cor padrão\n",
        "corDefault = coresViridis[1]"
      ],
      "metadata": {
        "id": "75L-Y7fDsgwz"
      },
      "execution_count": 67,
      "outputs": []
    },
    {
      "cell_type": "code",
      "source": [
        "# Definindo parâmetros dos gráficos\n",
        "plt.rcdefaults()\n",
        "# plt.rc(\"axes\", facecolor=\"#fafafa\", grid = True)\n",
        "# plt.rc(\"grid\", color=\"#f0f0f0\")\n",
        "# plt.rc(\"axes\", edgecolor=\"#cccccc\", lw = 0.1)"
      ],
      "metadata": {
        "id": "dTo6D3oksPEH"
      },
      "execution_count": 68,
      "outputs": []
    },
    {
      "cell_type": "code",
      "source": [
        "# cria a figura com 20 x 5 polegadas, retorna os eixos\n",
        "fig, ax = plt.subplots(figsize=(14,6))\n",
        "\n",
        "# percorre as linhas das 5 regiões e plota nos eixos\n",
        "for i in range(len(dataset.index)):\n",
        "  ax.plot(\n",
        "      dataset.columns,           # valores eixo x\n",
        "      dataset.iloc[i],           # valores eixo y\n",
        "      marker = 'o',             # marcador de coordenada\n",
        "      label = dataset.index[i],  # rotulo da linha\n",
        "      color = coresViridis[i]   # cor da linha\n",
        "  )\n",
        "\n",
        "# define título\n",
        "ax.set_title('Evolução da população brasileira em cada região do País')\n",
        "\n",
        "# Define os rótulos dos eixos\n",
        "ax.set_xlabel('Ano')\n",
        "ax.set_ylabel('Milhões de Habitantes')\n",
        "\n",
        "ax.grid(axis = 'y', alpha = 0.5)\n",
        "\n",
        "# obtém listas com as linhas e rótulos\n",
        "handles = ax.get_legend_handles_labels()\n",
        "\n",
        "# define os limites do eixo x\n",
        "plt.xlim(left = 0, right = max(handles[0][0].get_xdata()))\n",
        "\n",
        "# itera sobre as cinco regiões e anota os respectivos rótulos no final das respectivas linhas\n",
        "for i in range(len(dataset.index)):\n",
        "  maxx = max(handles[0][i].get_xdata()) # dados X da linha\n",
        "  maxy = max(handles[0][i].get_ydata()) # dados Y da linha\n",
        "  label = handles[1][i]                 # rótulo da linha (parâmetro label no Axes.plot)\n",
        "  ax.annotate(text = label, xy = (maxx, maxy), color = handles[0][i].get_color(), size = 10)\n",
        "\n",
        "# ajusta os parametros do subplot para caber dentro da figura\n",
        "plt.tight_layout()\n"
      ],
      "metadata": {
        "colab": {
          "base_uri": "https://localhost:8080/",
          "height": 607
        },
        "id": "4Y30-LQ-sza4",
        "outputId": "17248ad1-7adc-4abd-ab2b-fb78314992ba"
      },
      "execution_count": 69,
      "outputs": [
        {
          "output_type": "display_data",
          "data": {
            "text/plain": [
              "<Figure size 1400x600 with 1 Axes>"
            ],
            "image/png": "[encoded data removed]"
          },
          "metadata": {}
        }
      ]
    }
  ]
}